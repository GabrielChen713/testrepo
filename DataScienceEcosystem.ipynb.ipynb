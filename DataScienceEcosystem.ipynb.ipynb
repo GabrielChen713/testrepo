{
 "cells": [
  {
   "cell_type": "markdown",
   "id": "85eeca1d-0029-42ca-b384-4f95d9fcde68",
   "metadata": {},
   "source": [
    "Exercise 2: Create markdown cell with title of the notebook"
   ]
  },
  {
   "cell_type": "markdown",
   "id": "32225e01-6dad-4a73-ac9c-121c40825dd7",
   "metadata": {},
   "source": [
    "# Data Science Tools and Ecosystem"
   ]
  },
  {
   "cell_type": "markdown",
   "id": "0f42ba95-2082-4a64-ba3f-3e1a8b7302bc",
   "metadata": {},
   "source": [
    "Exercise 3 - Create a markdown cell for an introduction"
   ]
  },
  {
   "cell_type": "markdown",
   "id": "8b3fea73-06be-4bac-8b7b-7c18458c5133",
   "metadata": {},
   "source": [
    "In this notebook, Data Science Tools and Ecosystem are summarized."
   ]
  },
  {
   "cell_type": "markdown",
   "id": "48a03c67-06d8-4c24-ac5a-f4599449b7dd",
   "metadata": {},
   "source": [
    "Exercise 4 - Create a markdown cell to list data science languages"
   ]
  },
  {
   "cell_type": "markdown",
   "id": "1eb28c2a-3961-435a-a122-4ad103623c89",
   "metadata": {},
   "source": [
    "Some of the popular languages that Data Scientists use are:\n",
    "1. Python\n",
    "2. R\n",
    "3. Julia"
   ]
  },
  {
   "cell_type": "markdown",
   "id": "d0df2875-bc9c-4610-9489-a2a5cba45a81",
   "metadata": {},
   "source": [
    "Exercise 5 - Create a markdown cell to list data science libraries"
   ]
  },
  {
   "cell_type": "markdown",
   "id": "6b93374f-a8a8-4321-ae1b-b2aa879d67b1",
   "metadata": {},
   "source": [
    "Some of the commonly used libraries used by Data Scientists include:\n",
    "1. pandas\n",
    "2. NumPy\n",
    "3. matplotlib"
   ]
  },
  {
   "cell_type": "markdown",
   "id": "3c3e9043-17af-4a45-8f9c-0129322c2a94",
   "metadata": {},
   "source": [
    "Exercise 6 - Create a markdown cell with a table of Data Science tools"
   ]
  },
  {
   "cell_type": "markdown",
   "id": "b994a59e-a8b5-4977-a1ca-5f0d8aa764ec",
   "metadata": {},
   "source": [
    "|Data Science Tools|\n",
    "|----|\n",
    "|Jupyter Notebook|\n",
    "|R Studio|\n",
    "|VS Code|"
   ]
  },
  {
   "cell_type": "markdown",
   "id": "fc22524a-dd31-48e4-890d-e15051a7a4e1",
   "metadata": {},
   "source": [
    "Exercise 7 - Create a markdown cell introducing arithmetic expression examples"
   ]
  },
  {
   "cell_type": "markdown",
   "id": "4b1a45d7-aeff-499c-b413-d13ad9583f80",
   "metadata": {},
   "source": [
    "### Below are a few examples of evaluating arithmetic expressions in Python."
   ]
  },
  {
   "cell_type": "markdown",
   "id": "a68284b2-2487-4bfe-a557-ad2cf197b188",
   "metadata": {},
   "source": [
    "Exercise 8 - Create a code cell to multiply and add numbers"
   ]
  },
  {
   "cell_type": "markdown",
   "id": "bde6ebad-6b1b-48f8-972e-40b0f53c3483",
   "metadata": {},
   "source": [
    "This a simple arithmetic expression to mutiply then add integers"
   ]
  },
  {
   "cell_type": "code",
   "execution_count": 3,
   "id": "4c42df66-aefa-4ba4-83b5-874ce95f5773",
   "metadata": {},
   "outputs": [
    {
     "data": {
      "text/plain": [
       "17"
      ]
     },
     "execution_count": 3,
     "metadata": {},
     "output_type": "execute_result"
    }
   ],
   "source": [
    "(3*4)+5"
   ]
  },
  {
   "cell_type": "markdown",
   "id": "f829fa74-b22f-49d0-89cb-94acea5ece73",
   "metadata": {},
   "source": [
    "Exercise 9 - Create a code cell to convert minutes to hours"
   ]
  },
  {
   "cell_type": "markdown",
   "id": "ba5ffd36-327d-4b4c-8b2f-b44536c9adad",
   "metadata": {},
   "source": [
    "This will convert 200 minutes to hours by diving by 60."
   ]
  },
  {
   "cell_type": "code",
   "execution_count": 4,
   "id": "3bc78279-a481-408a-b14f-937396564bc3",
   "metadata": {},
   "outputs": [
    {
     "name": "stdout",
     "output_type": "stream",
     "text": [
      "3.3333333333333335hours\n"
     ]
    }
   ],
   "source": [
    "result = 200 / 60\n",
    "print(f\"{result}hours\")"
   ]
  },
  {
   "cell_type": "markdown",
   "id": "ff619201-cad4-4eb6-950d-396029f491a6",
   "metadata": {},
   "source": [
    "Exercise 10 - Insert a markdown cell to list Objectives"
   ]
  },
  {
   "cell_type": "markdown",
   "id": "9903fd01-8be1-43e8-9215-18be688c35f0",
   "metadata": {},
   "source": [
    "**Objectives:**\n",
    "* List popular languages for Data Science\n",
    "* List commonly used libraries for Data Science\n",
    "* Create a table for Data Science tools"
   ]
  },
  {
   "cell_type": "code",
   "execution_count": null,
   "id": "b63ab896-c70e-4daa-b8c9-0f81f38e7248",
   "metadata": {},
   "outputs": [],
   "source": []
  },
  {
   "cell_type": "markdown",
   "id": "92dcb971-3296-462a-86ff-b05dcae09747",
   "metadata": {},
   "source": [
    "## Author\n",
    "Shu"
   ]
  }
 ],
 "metadata": {
  "kernelspec": {
   "display_name": "Python [conda env:base] *",
   "language": "python",
   "name": "conda-base-py"
  },
  "language_info": {
   "codemirror_mode": {
    "name": "ipython",
    "version": 3
   },
   "file_extension": ".py",
   "mimetype": "text/x-python",
   "name": "python",
   "nbconvert_exporter": "python",
   "pygments_lexer": "ipython3",
   "version": "3.12.7"
  }
 },
 "nbformat": 4,
 "nbformat_minor": 5
}
